{
 "cells": [
  {
   "cell_type": "markdown",
   "metadata": {},
   "source": [
    "CANINE on TyDi QA jupyter notebook, automated and adapted to colab from the available github code at https://github.com/google-research/language/tree/master/language/canine/tydiqa and https://github.com/google-research-datasets/tydiqa#evaluation"
   ]
  },
  {
   "cell_type": "code",
   "execution_count": null,
   "metadata": {
    "id": "kpojBCXIX0Iv"
   },
   "outputs": [],
   "source": [
    "# For google colab\n",
    "\n",
    "#from google.colab import drive\n",
    "#drive.mount('/content/drive')\n",
    "#mkdir drive/MyDrive/canine\n",
    "#cd drive/MyDrive/canine"
   ]
  },
  {
   "cell_type": "code",
   "execution_count": null,
   "metadata": {
    "id": "Fkk6nzBrFlDb"
   },
   "outputs": [],
   "source": [
    "# For running locally\n",
    "\n",
    "%mkdir canine\n",
    "%cd canine"
   ]
  },
  {
   "cell_type": "code",
   "execution_count": null,
   "metadata": {
    "id": "IofMpAS8Xg_V"
   },
   "outputs": [],
   "source": [
    "!git clone https://github.com/google-research/language.git"
   ]
  },
  {
   "cell_type": "code",
   "execution_count": null,
   "metadata": {
    "id": "4v3xUsSNXmTg"
   },
   "outputs": [],
   "source": [
    "!pip3 install --upgrade tensorflow-gpu\n",
    "!pip3 install absl-py\n",
    "!pip3 install tf-slim"
   ]
  },
  {
   "cell_type": "code",
   "execution_count": null,
   "metadata": {
    "id": "phWXNG1yXrGu"
   },
   "outputs": [],
   "source": [
    "!pamac install --allow-change-held-packages libcudnn8=8.1.0.77-1+cuda11.2"
   ]
  },
  {
   "cell_type": "code",
   "execution_count": null,
   "metadata": {
    "id": "NPVu7rthXzQQ"
   },
   "outputs": [],
   "source": [
    "%cd ./language/\n",
    "!wget https://storage.googleapis.com/tydiqa/v1.0/tydiqa-v1.0-dev.jsonl.gz\n",
    "!wget https://storage.googleapis.com/tydiqa/v1.0/tydiqa-v1.0-train.jsonl.gz\n",
    "!wget https://storage.googleapis.com/caninemodels/canine-c.zip\n",
    "!wget https://storage.googleapis.com/caninemodels/canine-s.zip"
   ]
  },
  {
   "cell_type": "code",
   "execution_count": null,
   "metadata": {},
   "outputs": [],
   "source": [
    "!unzip canine-c.zip\n",
    "!unzip canine-s.zip"
   ]
  },
  {
   "cell_type": "code",
   "execution_count": null,
   "metadata": {
    "id": "eEpEjRyiX39C"
   },
   "outputs": [],
   "source": [
    "!python3 -m language.canine.tydiqa.prepare_tydi_data \\\n",
    "  --input_jsonl=tydiqa-v1.0-dev.jsonl.gz \\\n",
    "  --output_tfrecord=dev.tfrecord \\\n",
    "  --max_seq_length=2048 \\\n",
    "  --doc_stride=512 \\\n",
    "  --max_question_length=256 \\\n",
    "  --is_training=false"
   ]
  },
  {
   "cell_type": "code",
   "execution_count": null,
   "metadata": {
    "id": "gYlRvdDJX-Qp"
   },
   "outputs": [],
   "source": [
    "!python3 -m language.canine.tydiqa.prepare_tydi_data \\\n",
    "  --input_jsonl=tydiqa-v1.0-train.jsonl.gz \\\n",
    "  --output_tfrecord=train_samples.tfrecord \\\n",
    "  --record_count_file=train_samples_record_count.txt \\\n",
    "  --max_seq_length=2048 \\\n",
    "  --doc_stride=512 \\\n",
    "  --max_question_length=256 \\\n",
    "  --include_unknowns=0.1 \\\n",
    "  --is_training=true\n",
    "\n",
    "  # Google Colab always stopped before the end in this cell so the file could not be generated"
   ]
  },
  {
   "cell_type": "code",
   "execution_count": null,
   "metadata": {
    "id": "homgJ0oqYBv1"
   },
   "outputs": [],
   "source": [
    "!python3 -m language.canine.tydiqa.run_tydi \\\n",
    "  --model_config_file=canine-c/canine_config.json \\\n",
    "  --init_checkpoint=canine_dir/canine_model.ckpt \\\n",
    "  --train_records_file=train_samples/*.tfrecord \\\n",
    "  --record_count_file=train_samples_record_count.txt \\\n",
    "  --do_train \\\n",
    "  --max_seq_length=2048 \\\n",
    "  --train_batch_size=512 \\\n",
    "  --learning_rate=5e-5 \\\n",
    "  --num_train_epochs=10 \\\n",
    "  --warmup_proportion=0.1 \\\n",
    "  --output_dir=tydiqa_baseline_model-c\n",
    "\n",
    "  # Google Colab always stopped before the end in this cell so the file could not be generated and prevented me from running the following functions"
   ]
  },
  {
   "cell_type": "code",
   "execution_count": null,
   "metadata": {
    "id": "wpgXXA3_YCku"
   },
   "outputs": [],
   "source": [
    "!python3 -m language.canine.tydiqa.run_tydi \\\n",
    "  --model_config_file=canine-c/canine_config.json \\\n",
    "  --init_checkpoint=tydiqa_baseline_model-c \\\n",
    "  --predict_file=tydiqa-v1.0-dev.jsonl.gz \\\n",
    "  --do_predict \\\n",
    "  --max_seq_length=2048 \\\n",
    "  --max_answer_length=100 \\\n",
    "  --candidate_beam=30 \\\n",
    "  --predict_batch_size=128 \\\n",
    "  --output_dir=tydiqa_baseline_model-c/predict \\\n",
    "  --output_prediction_file=tydiqa_baseline_model-c/predict/pred.jsonl \\"
   ]
  },
  {
   "cell_type": "code",
   "execution_count": null,
   "metadata": {
    "id": "gn1BG2wdYFkI"
   },
   "outputs": [],
   "source": [
    "!git clone https://github.com/google-research-datasets/tydiqa.git\n",
    "!python3 language.canine.tydiqa.tydi_eval.py \\\n",
    "  --gold_path=tydiqa-v1.0-dev.jsonl.gz \\\n",
    "  --predictions_path=tydiqa_baseline_model-c/predict/pred.jsonl"
   ]
  },
  {
   "cell_type": "code",
   "execution_count": null,
   "metadata": {
    "id": "ByDABFZrCWxo"
   },
   "outputs": [],
   "source": [
    "!python3 -m language.canine.tydiqa.run_tydi \\\n",
    "  --model_config_file=canine-s/canine_config.json \\\n",
    "  --init_checkpoint=canine_dir/canine_model.ckpt \\\n",
    "  --train_records_file=train_samples/*.tfrecord \\\n",
    "  --record_count_file=train_samples_record_count.txt \\\n",
    "  --do_train \\\n",
    "  --max_seq_length=2048 \\\n",
    "  --train_batch_size=512 \\\n",
    "  --learning_rate=5e-5 \\\n",
    "  --num_train_epochs=10 \\\n",
    "  --warmup_proportion=0.1 \\\n",
    "  --output_dir=tydiqa_baseline_model-s"
   ]
  },
  {
   "cell_type": "code",
   "execution_count": null,
   "metadata": {
    "id": "UE0LuWUCCWxr"
   },
   "outputs": [],
   "source": [
    "!python3 -m language.canine.tydiqa.run_tydi \\\n",
    "  --model_config_file=canine-s/canine_config.json \\\n",
    "  --init_checkpoint=tydiqa_baseline_model-s \\\n",
    "  --predict_file=tydiqa-v1.0-dev.jsonl.gz \\\n",
    "  --do_predict \\\n",
    "  --max_seq_length=2048 \\\n",
    "  --max_answer_length=100 \\\n",
    "  --candidate_beam=30 \\\n",
    "  --predict_batch_size=128 \\\n",
    "  --output_dir=tydiqa_baseline_model-s/predict \\\n",
    "  --output_prediction_file=tydiqa_baseline_model-s/predict/pred.jsonl \\"
   ]
  },
  {
   "cell_type": "code",
   "execution_count": null,
   "metadata": {
    "id": "rs3ey-ZPCWxu"
   },
   "outputs": [],
   "source": [
    "!python3 language.canine.tydiqa.tydi_eval.py \\\n",
    "  --gold_path=tydiqa-v1.0-dev.jsonl.gz \\\n",
    "  --predictions_path=tydiqa_baseline_model-s/predict/pred.jsonl"
   ]
  },
  {
   "cell_type": "code",
   "execution_count": null,
   "metadata": {},
   "outputs": [],
   "source": [
    "# Maybe an interpretation of the outputs here but I didn't get this far."
   ]
  }
 ],
 "metadata": {
  "accelerator": "GPU",
  "colab": {
   "authorship_tag": "ABX9TyMeVary0IHCYUO5b8THliBg",
   "collapsed_sections": [],
   "name": "Canine_Colab.ipynb",
   "provenance": []
  },
  "kernelspec": {
   "display_name": "Python 3 (ipykernel)",
   "language": "python",
   "name": "python3"
  },
  "language_info": {
   "codemirror_mode": {
    "name": "ipython",
    "version": 3
   },
   "file_extension": ".py",
   "mimetype": "text/x-python",
   "name": "python",
   "nbconvert_exporter": "python",
   "pygments_lexer": "ipython3",
   "version": "3.10.4"
  }
 },
 "nbformat": 4,
 "nbformat_minor": 1
}
